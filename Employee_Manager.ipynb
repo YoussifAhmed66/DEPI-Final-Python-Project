{
 "cells": [
  {
   "cell_type": "code",
   "execution_count": 1,
   "id": "5e69cdf8-87fa-42a2-8811-13d342e58b19",
   "metadata": {},
   "outputs": [],
   "source": [
    "import csv\n",
    "import os\n",
    "import re"
   ]
  },
  {
   "cell_type": "code",
   "execution_count": 2,
   "id": "6983aa0e-c3d1-438c-9158-ed2516533885",
   "metadata": {},
   "outputs": [],
   "source": [
    "# These are helper functions only for taking inputs which require validation\n",
    "\n",
    "def intInput(s):\n",
    "    while True:\n",
    "        id = input(s)\n",
    "        if id.isdigit() and int(id) > 0:\n",
    "            return id\n",
    "        print('Please enter a valid integer')\n",
    "        \n",
    "def emailInput(s):\n",
    "    while True:\n",
    "        email = input(s)\n",
    "        pattern = r\"^[\\w\\.-]+@\\w+\\.\\w+$\"\n",
    "        # pattern = r\"^[a-zA-Z0-9_\\.-]+@[a-zA-Z0-9_]+\\.[a-zA-Z0-9_]$\"   this is the same \n",
    "        if bool(re.fullmatch(pattern, email)):\n",
    "            return email\n",
    "        print('Please enter a valid email')"
   ]
  },
  {
   "cell_type": "code",
   "execution_count": 3,
   "id": "ce9c1951-eeae-4712-a8fb-6662ee2cafd0",
   "metadata": {},
   "outputs": [],
   "source": [
    "class EmployeeManager():\n",
    "    def __init__(self):\n",
    "        # self.__data = []\n",
    "        self.__data = {}\n",
    "        self.__fields = ['Id', 'Name', 'Position', 'Salary', 'Email']\n",
    "        #defined  the attributes: the data is an empty dictionary for better memory handling later\n",
    "                                # this dictionary contains more dictionaries for the employee data as values and his id as key\n",
    "                                # self._fields defines the header of the csv file\n",
    "        \n",
    "        if os.path.exists(\"Employees.csv\"):\n",
    "            with open('Employees.csv') as file:    \n",
    "                reader = csv.DictReader(file)    \n",
    "                for i in reader:\n",
    "                    self.__data[i['Id']] = i   #takes the id from the child dictionary to make it it's key\n",
    "        else: \n",
    "            self.__createFile()\n",
    "\n",
    "\n",
    "    #Creates the file and add the data from memory: self.__data\n",
    "    def __createFile(self):\n",
    "        with open(\"Employees.csv\", 'w', newline = '') as file:\n",
    "            writer = csv.DictWriter(file, fieldnames = self.__fields)\n",
    "            writer.writeheader()\n",
    "            writer.writerows(self.__data.values())\n",
    "\n",
    "    \n",
    "    \n",
    "    def addEmployee(self, id, name, position, salary, email):\n",
    "        # it makes sure that the id doesn't exist\n",
    "        if id in self.__data:\n",
    "            print(f'id {id} already exists')\n",
    "            return\n",
    "        newData = {'Id': id, 'Name': name, 'Position': position, 'Salary': salary, 'Email': email }  #takes the new data for the employee then add it in the memory\n",
    "        self.__data[newData['Id']] = newData        \n",
    "        print(f'Employee {newData[\"Name\"]} with ID {newData[\"Id\"]} was added successfuly')\n",
    "    \n",
    "        self.__createFile()\n",
    "        # with open(\"Employees.csv\", 'a', newline = '') as file:\n",
    "        #     writer = csv.DictWriter(file, fieldnames = self.__fields)      This way also works but it is filling the csv file from the user input not from memory\n",
    "        #     writer.writerow(newData)\n",
    "\n",
    "    \n",
    "    def showEmployees(self):                 #it simply loops on the data dictionary and prints it's output\n",
    "        print(\"Here are all the employees\")\n",
    "        for employee in self.__data.values():     \n",
    "            print(f\"Id: {employee['Id']} \\nName: {employee['Name']} \\nPosition: {employee['Position']} \\nSalary: {employee['Salary']} \\nEmail: {employee['Email']}\")\n",
    "            print(\"===================================================\")\n",
    "\n",
    "    def updateEmployee(self, id):\n",
    "        try:                                  #checks that the id given exists in the parent dictionary keys and give it's value to the variable employee\n",
    "            employee = self.__data[id]\n",
    "            print(f\"Modifying on the employee {employee['Name']} with Id: {employee['Id']}\")\n",
    "            \n",
    "                    #now it asks what to change and update it's value in the employee dictionary\n",
    "            while True:\n",
    "                print(\"\\n1: Name \\n2: Position \\n3: Salary \\n4: Email \\n0: Done\")\n",
    "                choice = input(\"Please select what to change: \")\n",
    "                if choice == '1':\n",
    "                    new = input(\"Enter the new name: \")\n",
    "                    employee['Name'] = new\n",
    "                elif choice == '2':\n",
    "                    new = input(\"Enter the new position: \")\n",
    "                    employee['Position'] = new\n",
    "                elif choice == '3':\n",
    "                    employee['Salary'] = intInput(\"Enter the new salary: \")\n",
    "                elif choice == '4':\n",
    "                    employee['Email'] = emailInput(\"Enter the new email: \")\n",
    "                elif choice == '0':\n",
    "                    break\n",
    "                else:\n",
    "                    print(\"Please enter a valid input\")\n",
    "        \n",
    "                print(\"==================================================\")\n",
    "                print('Do you want to edit on anything else?')\n",
    "        \n",
    "            self.__createFile()\n",
    "        except:\n",
    "            print(f\"Id {id} was not found\")\n",
    "\n",
    "\n",
    "    \n",
    "    def deleteEmployee(self, id):         #it simply also check if the id exists then remove it from the parent dictionary\n",
    "        try:\n",
    "            employee = self.__data[id]\n",
    "            print(f\"Employee {employee['Name']} with id {employee['Id']} was deleted successfuly\")\n",
    "            self.__data.pop(id)\n",
    "    \n",
    "            self.__createFile()\n",
    "        except:\n",
    "            if id.isdigit():\n",
    "                print(f\"Id {id} was not found\")\n",
    "            else:\n",
    "                print('Please enter a valid integer')\n",
    "\n",
    "    \n",
    "    def searchEmployee(self, id):    # it also checks if the the id exist and prints it's value \n",
    "        try:\n",
    "            employee = self.__data[id]\n",
    "            print(\"Employee was found\")\n",
    "            print(f\"Id: {employee['Id']}\")\n",
    "            print(f\"Name: {employee['Name']}\")\n",
    "            print(f\"Position: {employee['Position']}\")\n",
    "            print(f\"Salary: {employee['Salary']}\")\n",
    "            print(f\"Email: {employee['Email']}\")\n",
    "        except:\n",
    "            if id.isdigit():\n",
    "                print(f\"Id {id} was not found\")\n",
    "            else:\n",
    "                print('Please enter a valid integer')\n",
    "\n",
    "\n",
    "    # not used but i added them just because i can\n",
    "    def dataGetter(self):\n",
    "        return self.__data\n",
    "    def dataSetter(self, value):\n",
    "        self.__data = value\n",
    "            \n",
    "    def fieldsGetter(self):\n",
    "        return self.__fields\n",
    "    def fieldsSetter(self, value):\n",
    "        self.__fields = value"
   ]
  },
  {
   "cell_type": "code",
   "execution_count": 4,
   "id": "7447e7a9-eb25-4776-b268-4fad6717bc6a",
   "metadata": {},
   "outputs": [
    {
     "name": "stdout",
     "output_type": "stream",
     "text": [
      "Welcome to Employee Manager\n",
      "1: Show all employees\n",
      "2: Add employee\n",
      "3: Update an employee\n",
      "4: Delete an employee\n",
      "5: Search for an employee\n",
      "0: Exit\n"
     ]
    },
    {
     "name": "stdin",
     "output_type": "stream",
     "text": [
      "Please choose what you want to do:  1\n"
     ]
    },
    {
     "name": "stdout",
     "output_type": "stream",
     "text": [
      "\n",
      "Here are all the employees\n",
      "Id: 1 \n",
      "Name: Youssif \n",
      "Position: Manager \n",
      "Salary: 150000 \n",
      "Email: youssifahmed66@gmail.com\n",
      "===================================================\n",
      "Id: 2 \n",
      "Name: Ahmed \n",
      "Position: Database Adminstrator \n",
      "Salary: 50000 \n",
      "Email: Ahmed@gmail.com\n",
      "===================================================\n",
      "Id: 3 \n",
      "Name: Abdallah \n",
      "Position: Web Developer \n",
      "Salary: 40000 \n",
      "Email: Abdallah70@gmail.com\n",
      "===================================================\n",
      "Id: 4 \n",
      "Name: Mostafa \n",
      "Position: Graphic Designer \n",
      "Salary: 40000 \n",
      "Email: Mostafaa@gmail.com\n",
      "===================================================\n",
      "Id: 5 \n",
      "Name: Mohamed \n",
      "Position: HR \n",
      "Salary: 20000 \n",
      "Email: mohamed@outlook.com\n",
      "===================================================\n",
      "Id: 10 \n",
      "Name: Hassan \n",
      "Position: Data Engineer \n",
      "Salary: 30000 \n",
      "Email: hassan@outlook.com\n",
      "===================================================\n",
      "======================================================================================\n",
      "\n",
      "Do you want to do anything else\n",
      "1: Show all employees\n",
      "2: Add employee\n",
      "3: Update an employee\n",
      "4: Delete an employee\n",
      "5: Search for an employee\n",
      "0: Exit\n"
     ]
    },
    {
     "name": "stdin",
     "output_type": "stream",
     "text": [
      "Please choose what you want to do:  2\n"
     ]
    },
    {
     "name": "stdout",
     "output_type": "stream",
     "text": [
      "\n"
     ]
    },
    {
     "name": "stdin",
     "output_type": "stream",
     "text": [
      "Enter the id of the employee:  d\n"
     ]
    },
    {
     "name": "stdout",
     "output_type": "stream",
     "text": [
      "Please enter a valid integer\n"
     ]
    },
    {
     "name": "stdin",
     "output_type": "stream",
     "text": [
      "Enter the id of the employee:  15\n",
      "Enter the name of the employee:  Yasser\n",
      "Enter the position of the employee:  IT\n",
      "Enter the salary of the employee:  w\n"
     ]
    },
    {
     "name": "stdout",
     "output_type": "stream",
     "text": [
      "Please enter a valid integer\n"
     ]
    },
    {
     "name": "stdin",
     "output_type": "stream",
     "text": [
      "Enter the salary of the employee:  25000\n",
      "Enter the email of the employee:  yasser.com\n"
     ]
    },
    {
     "name": "stdout",
     "output_type": "stream",
     "text": [
      "Please enter a valid email\n"
     ]
    },
    {
     "name": "stdin",
     "output_type": "stream",
     "text": [
      "Enter the email of the employee:  yasser@.com\n"
     ]
    },
    {
     "name": "stdout",
     "output_type": "stream",
     "text": [
      "Please enter a valid email\n"
     ]
    },
    {
     "name": "stdin",
     "output_type": "stream",
     "text": [
      "Enter the email of the employee:  yasser@gmail.com\n"
     ]
    },
    {
     "name": "stdout",
     "output_type": "stream",
     "text": [
      "Employee Yasser with ID 15 was added successfuly\n",
      "======================================================================================\n",
      "\n",
      "Do you want to do anything else\n",
      "1: Show all employees\n",
      "2: Add employee\n",
      "3: Update an employee\n",
      "4: Delete an employee\n",
      "5: Search for an employee\n",
      "0: Exit\n"
     ]
    },
    {
     "name": "stdin",
     "output_type": "stream",
     "text": [
      "Please choose what you want to do:  3\n"
     ]
    },
    {
     "name": "stdout",
     "output_type": "stream",
     "text": [
      "\n"
     ]
    },
    {
     "name": "stdin",
     "output_type": "stream",
     "text": [
      "Enter the id of the employee you want to update:  5\n"
     ]
    },
    {
     "name": "stdout",
     "output_type": "stream",
     "text": [
      "Modifying on the employee Mohamed with Id: 5\n",
      "\n",
      "1: Name \n",
      "2: Position \n",
      "3: Salary \n",
      "4: Email \n",
      "0: Done\n"
     ]
    },
    {
     "name": "stdin",
     "output_type": "stream",
     "text": [
      "Please select what to change:  1\n",
      "Enter the new name:  Marawan\n"
     ]
    },
    {
     "name": "stdout",
     "output_type": "stream",
     "text": [
      "==================================================\n",
      "Do you want to edit on anything else?\n",
      "\n",
      "1: Name \n",
      "2: Position \n",
      "3: Salary \n",
      "4: Email \n",
      "0: Done\n"
     ]
    },
    {
     "name": "stdin",
     "output_type": "stream",
     "text": [
      "Please select what to change:  4\n",
      "Enter the new email:  Marawan@goutlook.com\n"
     ]
    },
    {
     "name": "stdout",
     "output_type": "stream",
     "text": [
      "==================================================\n",
      "Do you want to edit on anything else?\n",
      "\n",
      "1: Name \n",
      "2: Position \n",
      "3: Salary \n",
      "4: Email \n",
      "0: Done\n"
     ]
    },
    {
     "name": "stdin",
     "output_type": "stream",
     "text": [
      "Please select what to change:  0\n"
     ]
    },
    {
     "name": "stdout",
     "output_type": "stream",
     "text": [
      "======================================================================================\n",
      "\n",
      "Do you want to do anything else\n",
      "1: Show all employees\n",
      "2: Add employee\n",
      "3: Update an employee\n",
      "4: Delete an employee\n",
      "5: Search for an employee\n",
      "0: Exit\n"
     ]
    },
    {
     "name": "stdin",
     "output_type": "stream",
     "text": [
      "Please choose what you want to do:  4\n"
     ]
    },
    {
     "name": "stdout",
     "output_type": "stream",
     "text": [
      "\n"
     ]
    },
    {
     "name": "stdin",
     "output_type": "stream",
     "text": [
      "Enter the id of the employee you want to delete:  10\n"
     ]
    },
    {
     "name": "stdout",
     "output_type": "stream",
     "text": [
      "Employee Hassan with id 10 was deleted successfuly\n",
      "======================================================================================\n",
      "\n",
      "Do you want to do anything else\n",
      "1: Show all employees\n",
      "2: Add employee\n",
      "3: Update an employee\n",
      "4: Delete an employee\n",
      "5: Search for an employee\n",
      "0: Exit\n"
     ]
    },
    {
     "name": "stdin",
     "output_type": "stream",
     "text": [
      "Please choose what you want to do:  5\n"
     ]
    },
    {
     "name": "stdout",
     "output_type": "stream",
     "text": [
      "\n"
     ]
    },
    {
     "name": "stdin",
     "output_type": "stream",
     "text": [
      "Enter the id of the employee you want to search:  2\n"
     ]
    },
    {
     "name": "stdout",
     "output_type": "stream",
     "text": [
      "Employee was found\n",
      "Id: 2\n",
      "Name: Ahmed\n",
      "Position: Database Adminstrator\n",
      "Salary: 50000\n",
      "Email: Ahmed@gmail.com\n",
      "======================================================================================\n",
      "\n",
      "Do you want to do anything else\n",
      "1: Show all employees\n",
      "2: Add employee\n",
      "3: Update an employee\n",
      "4: Delete an employee\n",
      "5: Search for an employee\n",
      "0: Exit\n"
     ]
    },
    {
     "name": "stdin",
     "output_type": "stream",
     "text": [
      "Please choose what you want to do:  0\n"
     ]
    },
    {
     "name": "stdout",
     "output_type": "stream",
     "text": [
      "\n",
      "\n",
      "Thank you, Good bye\n"
     ]
    }
   ],
   "source": [
    "##### Just a simple CLI where the user choose what he wants and then it loops until the user exit\n",
    "system = EmployeeManager()\n",
    "print(\"Welcome to Employee Manager\")\n",
    "while True:\n",
    "    print(\"1: Show all employees\")\n",
    "    print(\"2: Add employee\")\n",
    "    print(\"3: Update an employee\")\n",
    "    print(\"4: Delete an employee\")\n",
    "    print(\"5: Search for an employee\")\n",
    "    print(\"0: Exit\")\n",
    "\n",
    "    choice = input(\"Please choose what you want to do: \")\n",
    "    print('')\n",
    "    if choice == '1':\n",
    "        system.showEmployees()\n",
    "        \n",
    "    elif choice == '2':\n",
    "        id = intInput(\"Enter the id of the employee: \")           \n",
    "        name = input(\"Enter the name of the employee: \")\n",
    "        position = input(\"Enter the position of the employee: \")\n",
    "        salary = intInput('Enter the salary of the employee: ')\n",
    "        email = emailInput('Enter the email of the employee: ')\n",
    "        \n",
    "        system.addEmployee(id, name, position, salary, email)\n",
    "\n",
    "    elif choice == '3':\n",
    "        id = intInput(\"Enter the id of the employee you want to update: \")\n",
    "        system.updateEmployee(id)\n",
    "        \n",
    "    elif choice =='4':\n",
    "        id = intInput(\"Enter the id of the employee you want to delete: \")\n",
    "        system.deleteEmployee(id)\n",
    "        \n",
    "    elif choice == '5':\n",
    "        id = intInput(\"Enter the id of the employee you want to search: \")\n",
    "        system.searchEmployee(id)\n",
    "        \n",
    "    elif choice == '0':\n",
    "        break\n",
    "    else:\n",
    "        print(\"please enter a vaild input\")\n",
    "        continue\n",
    "    print('======================================================================================')\n",
    "    print('')\n",
    "    print(\"Do you want to do anything else\")   \n",
    "\n",
    "print(\"\\nThank you, Good bye\")"
   ]
  },
  {
   "cell_type": "code",
   "execution_count": null,
   "id": "a9b4f136-443d-4bda-8904-3ed77342e1b7",
   "metadata": {},
   "outputs": [],
   "source": []
  }
 ],
 "metadata": {
  "kernelspec": {
   "display_name": "Python [conda env:base] *",
   "language": "python",
   "name": "conda-base-py"
  },
  "language_info": {
   "codemirror_mode": {
    "name": "ipython",
    "version": 3
   },
   "file_extension": ".py",
   "mimetype": "text/x-python",
   "name": "python",
   "nbconvert_exporter": "python",
   "pygments_lexer": "ipython3",
   "version": "3.13.5"
  }
 },
 "nbformat": 4,
 "nbformat_minor": 5
}
