{
 "cells": [
  {
   "cell_type": "code",
   "execution_count": 51,
   "id": "ce9c1951-eeae-4712-a8fb-6662ee2cafd0",
   "metadata": {},
   "outputs": [],
   "source": [
    "import csv\n",
    "import os\n",
    "class EmployeeManager():\n",
    "    def __init__(self):\n",
    "        self.data = []\n",
    "        self.fields = ['Id', 'Name', 'Position', 'Salary', 'Email']\n",
    "        \n",
    "        if os.path.exists(\"Employees.csv\"):\n",
    "            with open('Employees.csv') as file:\n",
    "                reader = csv.DictReader(file)\n",
    "                for i in reader:\n",
    "                    self.data.append(i)\n",
    "        else: \n",
    "            with open(\"Employees.csv\", 'w', newline = '') as file:\n",
    "                writer = csv.DictWriter(file, fieldnames = self.fields)\n",
    "                writer.writeheader()\n",
    "        # print(self.data)   \n",
    "\n",
    "    def addEmployee(self, id, name, position, salary, email):\n",
    "        newData = {'Id': id, 'Name': name, 'Position': position, 'Salary': salary, 'Email': email }\n",
    "        self.data.append(newData)\n",
    "        \n",
    "        with open(\"Employees.csv\", 'w', newline = '') as file:\n",
    "            writer = csv.DictWriter(file, fieldnames = self.fields)\n",
    "            writer.writeheader()\n",
    "            writer.writerows(self.data)\n",
    "\n",
    "        # with open(\"Employees.csv\", 'a', newline = '') as file:\n",
    "        #     writer = csv.DictWriter(file, fieldnames = self.fields)   This way also works but it is filling the csv file from the user not from memory\n",
    "        #     writer.writerow(newData)\n",
    "        "
   ]
  },
  {
   "cell_type": "code",
   "execution_count": 52,
   "id": "a34e9c86-3a3f-48b0-8c17-f716eaafaa6a",
   "metadata": {},
   "outputs": [],
   "source": [
    "system = EmployeeManager()\n",
    "system.addEmployee(1, 'Youssif', 'Manager', '150000', 'yoossifahmed66@gmail.com')"
   ]
  },
  {
   "cell_type": "code",
   "execution_count": null,
   "id": "ebf026bc-cee9-498b-839f-5af1c5694b47",
   "metadata": {},
   "outputs": [],
   "source": []
  }
 ],
 "metadata": {
  "kernelspec": {
   "display_name": "Python 3 (ipykernel)",
   "language": "python",
   "name": "python3"
  },
  "language_info": {
   "codemirror_mode": {
    "name": "ipython",
    "version": 3
   },
   "file_extension": ".py",
   "mimetype": "text/x-python",
   "name": "python",
   "nbconvert_exporter": "python",
   "pygments_lexer": "ipython3",
   "version": "3.13.5"
  }
 },
 "nbformat": 4,
 "nbformat_minor": 5
}
