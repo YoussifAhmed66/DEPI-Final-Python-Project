{
 "cells": [
  {
   "cell_type": "code",
   "execution_count": 1,
   "id": "ce9c1951-eeae-4712-a8fb-6662ee2cafd0",
   "metadata": {},
   "outputs": [],
   "source": [
    "import csv\n",
    "import os\n",
    "class EmployeeManager():\n",
    "    def __init__(self):\n",
    "        self.data = []\n",
    "        self.fields = ['Id', 'Name', 'Position', 'Salary', 'Email']\n",
    "        \n",
    "        if os.path.exists(\"Employees.csv\"):\n",
    "            with open('Employees.csv') as file:\n",
    "                reader = csv.DictReader(file)\n",
    "                for i in reader:\n",
    "                    self.data.append(i)\n",
    "        else: \n",
    "            with open(\"Employees.csv\", 'w', newline = '') as file:\n",
    "                writer = csv.DictWriter(file, fieldnames = self.fields)\n",
    "                writer.writeheader()\n",
    "        # print(self.data)   \n",
    "\n",
    "    def addEmployee(self, id, name, position, salary, email):\n",
    "        newData = {'Id': id, 'Name': name, 'Position': position, 'Salary': salary, 'Email': email }\n",
    "        self.data.append(newData)\n",
    "        \n",
    "        with open(\"Employees.csv\", 'w', newline = '') as file:\n",
    "            writer = csv.DictWriter(file, fieldnames = self.fields)\n",
    "            writer.writeheader()\n",
    "            writer.writerows(self.data)\n",
    "\n",
    "        # with open(\"Employees.csv\", 'a', newline = '') as file:\n",
    "        #     writer = csv.DictWriter(file, fieldnames = self.fields)   This way also works but it is filling the csv file from the user not from memory\n",
    "        #     writer.writerow(newData)\n",
    "\n",
    "    def showEmployees(self):\n",
    "        for employee in self.data:\n",
    "            print(f\"Id: {employee['Id']} \\nName: {employee['Name']} \\nPosition: {employee['Position']} nSalary: {employee['Salary']} \\nEmail: {employee['Email']}\")\n",
    "            print(\"===================================================\")\n",
    "\n",
    "    def updateEmployee(self, id):\n",
    "        for employee in self.data:\n",
    "            if employee['Id'] == id:\n",
    "                print(f\"Modifying on the employee {employee['Name']} with Id: employee['id']\")\n",
    "                while True:\n",
    "                    print(\"1: ID \\n2: Name \\n3: Position \\n4: Salary \\n5:Email \\n0: Exit\")\n",
    "                    choice = input(\"Please select what to change: \")\n",
    "                    if choice == '1':\n",
    "                        new = input(\"Enter the new Id: \")\n",
    "                        employee[\"Id\"] = new\n",
    "                    elif choice == '2':\n",
    "                        new = input(\"Enter the new name: \")\n",
    "                        employee['Name'] = new\n",
    "                    elif choice == '3':\n",
    "                        new = input(\"Enter the new position: \")\n",
    "                        employee['Position'] = new\n",
    "                    elif choice == '4':\n",
    "                        new = input(\"Enter the new salary: \")\n",
    "                        employee['Salary'] = new\n",
    "                    elif choice == '5':\n",
    "                        new = input(\"Enter the new email: \")\n",
    "                        employee['Email'] = new\n",
    "                    elif choice == '0':\n",
    "                        break\n",
    "                    else:\n",
    "                        print(\"Please enter a valid input\")\n",
    "\n",
    "                    print(\"==================================================\")\n",
    "\n",
    "        with open(\"Employees.csv\", 'w', newline = '') as file:\n",
    "            writer = csv.DictWriter(file, fieldnames = self.fields)\n",
    "            writer.writeheader()\n",
    "            writer.writerows(self.data)"
   ]
  },
  {
   "cell_type": "code",
   "execution_count": 3,
   "id": "a34e9c86-3a3f-48b0-8c17-f716eaafaa6a",
   "metadata": {},
   "outputs": [
    {
     "name": "stdout",
     "output_type": "stream",
     "text": [
      "Id: 1 \n",
      "Name: Youssif \n",
      "Position: Manager nSalary: 150000 \n",
      "Email: yoossifahmed66@gmail.com\n",
      "===================================================\n",
      "Id: 2 \n",
      "Name: Ahmed \n",
      "Position: Database Adminstrator nSalary: 90000 \n",
      "Email: Ahmed@gmail.com\n",
      "===================================================\n",
      "Id: 3 \n",
      "Name: Abdallah \n",
      "Position: Web Developer nSalary: 150000 \n",
      "Email: Abdallah70@gmail.com\n",
      "===================================================\n",
      "Id: 4 \n",
      "Name: Mostafa \n",
      "Position: Graphic Designer nSalary: 40000 \n",
      "Email: Mostafaa@gmail.com\n",
      "===================================================\n",
      "Modifying on the employee Youssif with Id: employee['id']\n",
      "1: ID \n",
      "2: Name \n",
      "3: Position \n",
      "4: Salary \n",
      "5:Email \n",
      "0: Exit\n"
     ]
    },
    {
     "name": "stdin",
     "output_type": "stream",
     "text": [
      "Please select what to change:  1\n",
      "Enter the new Id:  20\n"
     ]
    },
    {
     "name": "stdout",
     "output_type": "stream",
     "text": [
      "==================================================\n",
      "1: ID \n",
      "2: Name \n",
      "3: Position \n",
      "4: Salary \n",
      "5:Email \n",
      "0: Exit\n"
     ]
    },
    {
     "name": "stdin",
     "output_type": "stream",
     "text": [
      "Please select what to change:  2\n",
      "Enter the new name:  Mohamed\n"
     ]
    },
    {
     "name": "stdout",
     "output_type": "stream",
     "text": [
      "==================================================\n",
      "1: ID \n",
      "2: Name \n",
      "3: Position \n",
      "4: Salary \n",
      "5:Email \n",
      "0: Exit\n"
     ]
    },
    {
     "name": "stdin",
     "output_type": "stream",
     "text": [
      "Please select what to change:  0\n"
     ]
    },
    {
     "name": "stdout",
     "output_type": "stream",
     "text": [
      "Id: 20 \n",
      "Name: Mohamed \n",
      "Position: Manager nSalary: 150000 \n",
      "Email: yoossifahmed66@gmail.com\n",
      "===================================================\n",
      "Id: 2 \n",
      "Name: Ahmed \n",
      "Position: Database Adminstrator nSalary: 90000 \n",
      "Email: Ahmed@gmail.com\n",
      "===================================================\n",
      "Id: 3 \n",
      "Name: Abdallah \n",
      "Position: Web Developer nSalary: 150000 \n",
      "Email: Abdallah70@gmail.com\n",
      "===================================================\n",
      "Id: 4 \n",
      "Name: Mostafa \n",
      "Position: Graphic Designer nSalary: 40000 \n",
      "Email: Mostafaa@gmail.com\n",
      "===================================================\n"
     ]
    }
   ],
   "source": [
    "system = EmployeeManager()\n",
    "# system.addEmployee(1, 'Youssif', 'Manager', '150000', 'yoossifahmed66@gmail.com')\n",
    "# system.addEmployee(2, 'Ahmed', 'Database Adminstrator', '90000', 'Ahmed@gmail.com')\n",
    "# system.addEmployee(3, 'Abdallah', 'Web Developer', '150000', 'Abdallah70@gmail.com')\n",
    "# system.addEmployee(4, 'Mostafa', 'Graphic Designer', '40000', 'Mostafaa@gmail.com')\n",
    "\n",
    "system.showEmployees()\n",
    "system.updateEmployee('1')\n",
    "system.showEmployees()\n"
   ]
  },
  {
   "cell_type": "code",
   "execution_count": null,
   "id": "7447e7a9-eb25-4776-b268-4fad6717bc6a",
   "metadata": {},
   "outputs": [],
   "source": []
  }
 ],
 "metadata": {
  "kernelspec": {
   "display_name": "Python 3 (ipykernel)",
   "language": "python",
   "name": "python3"
  },
  "language_info": {
   "codemirror_mode": {
    "name": "ipython",
    "version": 3
   },
   "file_extension": ".py",
   "mimetype": "text/x-python",
   "name": "python",
   "nbconvert_exporter": "python",
   "pygments_lexer": "ipython3",
   "version": "3.13.5"
  }
 },
 "nbformat": 4,
 "nbformat_minor": 5
}
