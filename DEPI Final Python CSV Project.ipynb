{
 "cells": [
  {
   "cell_type": "code",
   "execution_count": 70,
   "id": "ce9c1951-eeae-4712-a8fb-6662ee2cafd0",
   "metadata": {},
   "outputs": [],
   "source": [
    "import csv\n",
    "import os\n",
    "class EmployeeManager():\n",
    "    def __init__(self):\n",
    "        self.data = []\n",
    "        self.fields = ['Id', 'Name', 'Position', 'Salary', 'Email']\n",
    "        \n",
    "        if os.path.exists(\"Employees.csv\"):\n",
    "            with open('Employees.csv') as file:\n",
    "                reader = csv.DictReader(file)\n",
    "                for i in reader:\n",
    "                    self.data.append(i)\n",
    "        else: \n",
    "            with open(\"Employees.csv\", 'w', newline = '') as file:\n",
    "                writer = csv.DictWriter(file, fieldnames = self.fields)\n",
    "                writer.writeheader()\n",
    "        # print(self.data)   \n",
    "\n",
    "    def addEmployee(self, id, name, position, salary, email):\n",
    "        newData = {'Id': id, 'Name': name, 'Position': position, 'Salary': salary, 'Email': email }\n",
    "        self.data.append(newData)\n",
    "        \n",
    "        with open(\"Employees.csv\", 'w', newline = '') as file:\n",
    "            writer = csv.DictWriter(file, fieldnames = self.fields)\n",
    "            writer.writeheader()\n",
    "            writer.writerows(self.data)\n",
    "\n",
    "        # with open(\"Employees.csv\", 'a', newline = '') as file:\n",
    "        #     writer = csv.DictWriter(file, fieldnames = self.fields)   This way also works but it is filling the csv file from the user not from memory\n",
    "        #     writer.writerow(newData)\n",
    "\n",
    "    def showEmployees(self):\n",
    "        for employee in self.data:\n",
    "            print(f\"Id: {employee['Id']} \\nName: {employee['Name']} \\nPosition: {employee['Position']} nSalary: {employee['Salary']} \\nEmail: {employee['Email']}\")\n",
    "            print(\"===================================================\")\n",
    "        "
   ]
  },
  {
   "cell_type": "code",
   "execution_count": 71,
   "id": "a34e9c86-3a3f-48b0-8c17-f716eaafaa6a",
   "metadata": {},
   "outputs": [
    {
     "name": "stdout",
     "output_type": "stream",
     "text": [
      "Id: 1 \n",
      "Name: Youssif \n",
      "Position: Manager nSalary: 150000 \n",
      "Email: yoossifahmed66@gmail.com\n",
      "===================================================\n",
      "Id: 2 \n",
      "Name: Ahmed \n",
      "Position: Database Adminstrator nSalary: 90000 \n",
      "Email: Ahmed@gmail.com\n",
      "===================================================\n",
      "Id: 3 \n",
      "Name: Abdallah \n",
      "Position: Web Developer nSalary: 150000 \n",
      "Email: Abdallah70@gmail.com\n",
      "===================================================\n",
      "Id: 4 \n",
      "Name: Mostafa \n",
      "Position: Graphic Designer nSalary: 40000 \n",
      "Email: Mostafaa@gmail.com\n",
      "===================================================\n"
     ]
    }
   ],
   "source": [
    "system = EmployeeManager()\n",
    "# system.addEmployee(1, 'Youssif', 'Manager', '150000', 'yoossifahmed66@gmail.com')\n",
    "# system.addEmployee(2, 'Ahmed', 'Database Adminstrator', '90000', 'Ahmed@gmail.com')\n",
    "# system.addEmployee(3, 'Abdallah', 'Web Developer', '150000', 'Abdallah70@gmail.com')\n",
    "# system.addEmployee(4, 'Mostafa', 'Graphic Designer', '40000', 'Mostafaa@gmail.com')\n",
    "\n",
    "system.showEmployees()"
   ]
  },
  {
   "cell_type": "code",
   "execution_count": null,
   "id": "7447e7a9-eb25-4776-b268-4fad6717bc6a",
   "metadata": {},
   "outputs": [],
   "source": []
  }
 ],
 "metadata": {
  "kernelspec": {
   "display_name": "Python 3 (ipykernel)",
   "language": "python",
   "name": "python3"
  },
  "language_info": {
   "codemirror_mode": {
    "name": "ipython",
    "version": 3
   },
   "file_extension": ".py",
   "mimetype": "text/x-python",
   "name": "python",
   "nbconvert_exporter": "python",
   "pygments_lexer": "ipython3",
   "version": "3.13.5"
  }
 },
 "nbformat": 4,
 "nbformat_minor": 5
}
